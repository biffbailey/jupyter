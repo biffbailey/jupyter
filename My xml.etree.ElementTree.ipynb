{
 "cells": [
  {
   "cell_type": "code",
   "execution_count": null,
   "metadata": {
    "collapsed": true
   },
   "outputs": [],
   "source": [
    "import xml.etree.ElementTree as ET\n",
    "tree = ET.parse('c:\\users\\BiffBaileyAdmin.BBIgBLDRSHP270F\\Downloads\\Biff_Bailey_2017-02-24_12-47-42.tcx')\n",
    "root = tree.getroot()\n",
    "for node in root:\n",
    "    for child in node:\n",
    "        for sub in child:\n",
    "            for sub1 in sub:\n",
    "                print node, child, sub, sub1"
   ]
  },
  {
   "cell_type": "code",
   "execution_count": 133,
   "metadata": {
    "collapsed": false
   },
   "outputs": [
    {
     "name": "stdout",
     "output_type": "stream",
     "text": [
      "<Element '{http://www.garmin.com/xmlschemas/TrainingCenterDatabase/v2}TrainingCenterDatabase' at 0x6d579e8>\n"
     ]
    }
   ],
   "source": [
    "print tree.getroot()"
   ]
  },
  {
   "cell_type": "code",
   "execution_count": 134,
   "metadata": {
    "collapsed": false
   },
   "outputs": [
    {
     "name": "stdout",
     "output_type": "stream",
     "text": [
      "3639 <type 'list'> <type 'int'>\n"
     ]
    }
   ],
   "source": [
    "hr_bpm = list()\n",
    "for node in tree.iter(\"{http://www.garmin.com/xmlschemas/TrainingCenterDatabase/v2}HeartRateBpm\"):\n",
    "    for child in node:\n",
    "        hr_bpm.append(int(child.text))\n",
    "print len(hr_bpm), type(hr_bpm), type(hr_bpm[5])\n"
   ]
  },
  {
   "cell_type": "code",
   "execution_count": 100,
   "metadata": {
    "collapsed": false
   },
   "outputs": [
    {
     "name": "stdout",
     "output_type": "stream",
     "text": [
      "15438 <type 'list'> <type 'str'>\n"
     ]
    }
   ],
   "source": [
    "track_points = list()\n",
    "for node in tree.iter(\"{http://www.garmin.com/xmlschemas/TrainingCenterDatabase/v2}Trackpoint\"):\n",
    "    for child in node:\n",
    "        track_points.append(child.text)\n",
    "print len(track_points), type(track_points), type(track_points[0])"
   ]
  },
  {
   "cell_type": "code",
   "execution_count": 209,
   "metadata": {
    "collapsed": false
   },
   "outputs": [],
   "source": [
    "def trimp(hr_list, time_interval_s, hr_max, hr_rest):\n",
    "    trimp_score = float(0)\n",
    "    for i in range(len(hr_list)):\n",
    "        hr_pct_reserve = (hr_list[i]-hr_rest)/float(hr_max-hr_rest)\n",
    "        trimp_score = trimp_score + (\n",
    "            (time_interval_s / 60.00)\n",
    "            * hr_pct_reserve\n",
    "            * 0.64 * math.exp(1.92*(hr_pct_reserve))\n",
    "                          )\n",
    "    return trimp_score  "
   ]
  },
  {
   "cell_type": "code",
   "execution_count": 210,
   "metadata": {
    "collapsed": false
   },
   "outputs": [
    {
     "name": "stdout",
     "output_type": "stream",
     "text": [
      "99.0909403365\n"
     ]
    }
   ],
   "source": [
    "print trimp(hr_bpm, 1, 170, 48)"
   ]
  },
  {
   "cell_type": "code",
   "execution_count": 156,
   "metadata": {
    "collapsed": false
   },
   "outputs": [
    {
     "name": "stdout",
     "output_type": "stream",
     "text": [
      "3639.0\n",
      "130.334157736\n"
     ]
    }
   ],
   "source": [
    "mean = 0\n",
    "x = float(len(hr_bpm))\n",
    "print x\n",
    "for i in range(len(hr_bpm)):\n",
    "    mean = mean + hr_bpm[i]/x\n",
    "print mean"
   ]
  },
  {
   "cell_type": "code",
   "execution_count": 191,
   "metadata": {
    "collapsed": false
   },
   "outputs": [
    {
     "name": "stdout",
     "output_type": "stream",
     "text": [
      "60.65\n"
     ]
    }
   ],
   "source": [
    "\n",
    "print len(hr_bpm)/60.0"
   ]
  },
  {
   "cell_type": "code",
   "execution_count": null,
   "metadata": {
    "collapsed": true
   },
   "outputs": [],
   "source": []
  }
 ],
 "metadata": {
  "kernelspec": {
   "display_name": "Python [default]",
   "language": "python",
   "name": "python2"
  },
  "language_info": {
   "codemirror_mode": {
    "name": "ipython",
    "version": 2
   },
   "file_extension": ".py",
   "mimetype": "text/x-python",
   "name": "python",
   "nbconvert_exporter": "python",
   "pygments_lexer": "ipython2",
   "version": "2.7.12"
  }
 },
 "nbformat": 4,
 "nbformat_minor": 1
}
